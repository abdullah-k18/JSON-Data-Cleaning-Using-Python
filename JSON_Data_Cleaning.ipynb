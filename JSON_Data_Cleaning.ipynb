{
  "nbformat": 4,
  "nbformat_minor": 0,
  "metadata": {
    "colab": {
      "provenance": []
    },
    "kernelspec": {
      "name": "python3",
      "display_name": "Python 3"
    },
    "language_info": {
      "name": "python"
    }
  },
  "cells": [
    {
      "cell_type": "code",
      "execution_count": 5,
      "metadata": {
        "id": "Bjpse3Ub1WnE"
      },
      "outputs": [],
      "source": [
        "import json\n",
        "\n",
        "with open('data.json', 'r') as file:\n",
        "  data = json.load(file)\n",
        "\n",
        "cleaned_data =[]\n",
        "\n",
        "for item in data:\n",
        "  cleaned_item = {\n",
        "    \"name\": item.get(\"name\"),\n",
        "    \"city\": item.get(\"city\"),\n",
        "    \"country\": item.get(\"country\")\n",
        "  }\n",
        "  cleaned_data.append(cleaned_item)\n",
        "\n",
        "with open('cleaned_data.json', 'w') as file:\n",
        "    json.dump(cleaned_data, file, indent=4)"
      ]
    }
  ]
}